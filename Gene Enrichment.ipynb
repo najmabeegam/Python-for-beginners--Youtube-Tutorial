{
 "cells": [
  {
   "cell_type": "code",
   "execution_count": 1,
   "id": "cc18ee02",
   "metadata": {},
   "outputs": [
    {
     "name": "stdout",
     "output_type": "stream",
     "text": [
      "gseapy: True | mygene: True\n"
     ]
    }
   ],
   "source": [
    "import os\n",
    "import pandas as pd\n",
    "import matplotlib.pyplot as plt\n",
    "from datetime import datetime\n",
    "\n",
    "try:\n",
    "    import gseapy as gp\n",
    "    GSEAPY_OK = True\n",
    "except Exception as e:\n",
    "    print(\"gseapy not available:\", e)\n",
    "    GSEAPY_OK = False\n",
    "\n",
    "try:\n",
    "    from mygene import MyGeneInfo\n",
    "    MYGENE_OK = True\n",
    "except Exception as e:\n",
    "    print(\"mygene not available:\", e)\n",
    "    MYGENE_OK = False\n",
    "\n",
    "print(\"gseapy:\", GSEAPY_OK, \"| mygene:\", MYGENE_OK)\n"
   ]
  },
  {
   "cell_type": "code",
   "execution_count": 2,
   "id": "6b4b3124",
   "metadata": {},
   "outputs": [
    {
     "data": {
      "text/plain": [
       "(20, ['MKI67', 'CCNB1', 'CCNB2', 'CDK1', 'BIRC5'])"
      ]
     },
     "execution_count": 2,
     "metadata": {},
     "output_type": "execute_result"
    }
   ],
   "source": [
    "genes = [\n",
    "    \"MKI67\",\"CCNB1\",\"CCNB2\",\"CDK1\",\"BIRC5\",\"TOP2A\",\"PCNA\",\"PLK1\",\"CDC20\",\"AURKA\",\n",
    "    \"AURKB\",\"KIF11\",\"KIF2C\",\"KIF20A\",\"CHEK1\",\"CHEK2\",\"TYMS\",\"CENPF\",\"CENPA\",\"UBE2C\"\n",
    "]\n",
    "len(genes), genes[:5]"
   ]
  },
  {
   "cell_type": "code",
   "execution_count": 3,
   "id": "a5b76d3e",
   "metadata": {},
   "outputs": [
    {
     "name": "stderr",
     "output_type": "stream",
     "text": [
      "Input sequence provided is already in string format. No operation performed\n",
      "Input sequence provided is already in string format. No operation performed\n"
     ]
    },
    {
     "data": {
      "text/html": [
       "<div>\n",
       "<style scoped>\n",
       "    .dataframe tbody tr th:only-of-type {\n",
       "        vertical-align: middle;\n",
       "    }\n",
       "\n",
       "    .dataframe tbody tr th {\n",
       "        vertical-align: top;\n",
       "    }\n",
       "\n",
       "    .dataframe thead th {\n",
       "        text-align: right;\n",
       "    }\n",
       "</style>\n",
       "<table border=\"1\" class=\"dataframe\">\n",
       "  <thead>\n",
       "    <tr style=\"text-align: right;\">\n",
       "      <th></th>\n",
       "      <th>query</th>\n",
       "      <th>symbol</th>\n",
       "      <th>name</th>\n",
       "      <th>entrezgene</th>\n",
       "    </tr>\n",
       "  </thead>\n",
       "  <tbody>\n",
       "    <tr>\n",
       "      <th>0</th>\n",
       "      <td>MKI67</td>\n",
       "      <td>MKI67</td>\n",
       "      <td>marker of proliferation Ki-67</td>\n",
       "      <td>4288</td>\n",
       "    </tr>\n",
       "    <tr>\n",
       "      <th>1</th>\n",
       "      <td>CCNB1</td>\n",
       "      <td>CCNB1</td>\n",
       "      <td>cyclin B1</td>\n",
       "      <td>891</td>\n",
       "    </tr>\n",
       "    <tr>\n",
       "      <th>2</th>\n",
       "      <td>CCNB2</td>\n",
       "      <td>CCNB2</td>\n",
       "      <td>cyclin B2</td>\n",
       "      <td>9133</td>\n",
       "    </tr>\n",
       "    <tr>\n",
       "      <th>3</th>\n",
       "      <td>CDK1</td>\n",
       "      <td>CDK1</td>\n",
       "      <td>cyclin dependent kinase 1</td>\n",
       "      <td>983</td>\n",
       "    </tr>\n",
       "    <tr>\n",
       "      <th>4</th>\n",
       "      <td>BIRC5</td>\n",
       "      <td>BIRC5</td>\n",
       "      <td>baculoviral IAP repeat containing 5</td>\n",
       "      <td>332</td>\n",
       "    </tr>\n",
       "    <tr>\n",
       "      <th>5</th>\n",
       "      <td>TOP2A</td>\n",
       "      <td>TOP2A</td>\n",
       "      <td>DNA topoisomerase II alpha</td>\n",
       "      <td>7153</td>\n",
       "    </tr>\n",
       "    <tr>\n",
       "      <th>6</th>\n",
       "      <td>PCNA</td>\n",
       "      <td>PCNA</td>\n",
       "      <td>proliferating cell nuclear antigen</td>\n",
       "      <td>5111</td>\n",
       "    </tr>\n",
       "    <tr>\n",
       "      <th>7</th>\n",
       "      <td>PLK1</td>\n",
       "      <td>PLK1</td>\n",
       "      <td>polo like kinase 1</td>\n",
       "      <td>5347</td>\n",
       "    </tr>\n",
       "    <tr>\n",
       "      <th>8</th>\n",
       "      <td>CDC20</td>\n",
       "      <td>CDC20</td>\n",
       "      <td>cell division cycle 20</td>\n",
       "      <td>991</td>\n",
       "    </tr>\n",
       "    <tr>\n",
       "      <th>9</th>\n",
       "      <td>AURKA</td>\n",
       "      <td>AURKA</td>\n",
       "      <td>aurora kinase A</td>\n",
       "      <td>6790</td>\n",
       "    </tr>\n",
       "  </tbody>\n",
       "</table>\n",
       "</div>"
      ],
      "text/plain": [
       "   query symbol                                 name entrezgene\n",
       "0  MKI67  MKI67        marker of proliferation Ki-67       4288\n",
       "1  CCNB1  CCNB1                            cyclin B1        891\n",
       "2  CCNB2  CCNB2                            cyclin B2       9133\n",
       "3   CDK1   CDK1            cyclin dependent kinase 1        983\n",
       "4  BIRC5  BIRC5  baculoviral IAP repeat containing 5        332\n",
       "5  TOP2A  TOP2A           DNA topoisomerase II alpha       7153\n",
       "6   PCNA   PCNA   proliferating cell nuclear antigen       5111\n",
       "7   PLK1   PLK1                   polo like kinase 1       5347\n",
       "8  CDC20  CDC20               cell division cycle 20        991\n",
       "9  AURKA  AURKA                      aurora kinase A       6790"
      ]
     },
     "metadata": {},
     "output_type": "display_data"
    }
   ],
   "source": [
    "if MYGENE_OK:\n",
    "    mg = MyGeneInfo()\n",
    "    q = mg.querymany(genes, scopes='symbol', fields='symbol,name,entrezgene,ensembl.gene', species='human')\n",
    "    df_check = pd.DataFrame(q)\n",
    "    display(df_check[['query','symbol','name','entrezgene']].head(10))\n",
    "else:\n",
    "    print(\"mygene not installed — skipping symbol validation.\")"
   ]
  },
  {
   "cell_type": "code",
   "execution_count": 6,
   "id": "3ebca731",
   "metadata": {},
   "outputs": [
    {
     "name": "stdout",
     "output_type": "stream",
     "text": [
      "gseapy version: 1.1.9\n",
      "enrichr signature: (gene_list: Iterable[str], gene_sets: Union[List[str], str, Dict[str, str]], organism: str = 'human', outdir: Optional[str] = None, background: Union[List[str], int, str] = None, cutoff: float = 0.05, format: str = 'pdf', figsize: Tuple[float, float] = (6.5, 6), top_term: int = 10, no_plot: bool = False, verbose: bool = False) -> gseapy.enrichr.Enrichr\n"
     ]
    },
    {
     "data": {
      "text/html": [
       "<div>\n",
       "<style scoped>\n",
       "    .dataframe tbody tr th:only-of-type {\n",
       "        vertical-align: middle;\n",
       "    }\n",
       "\n",
       "    .dataframe tbody tr th {\n",
       "        vertical-align: top;\n",
       "    }\n",
       "\n",
       "    .dataframe thead th {\n",
       "        text-align: right;\n",
       "    }\n",
       "</style>\n",
       "<table border=\"1\" class=\"dataframe\">\n",
       "  <thead>\n",
       "    <tr style=\"text-align: right;\">\n",
       "      <th></th>\n",
       "      <th>Gene_set</th>\n",
       "      <th>Term</th>\n",
       "      <th>Overlap</th>\n",
       "      <th>P-value</th>\n",
       "      <th>Adjusted P-value</th>\n",
       "      <th>Old P-value</th>\n",
       "      <th>Old Adjusted P-value</th>\n",
       "      <th>Odds Ratio</th>\n",
       "      <th>Combined Score</th>\n",
       "      <th>Genes</th>\n",
       "    </tr>\n",
       "  </thead>\n",
       "  <tbody>\n",
       "    <tr>\n",
       "      <th>0</th>\n",
       "      <td>KEGG_2021_Human</td>\n",
       "      <td>Cell cycle</td>\n",
       "      <td>8/124</td>\n",
       "      <td>2.054851e-13</td>\n",
       "      <td>4.931642e-12</td>\n",
       "      <td>0</td>\n",
       "      <td>0</td>\n",
       "      <td>114.160920</td>\n",
       "      <td>3335.028939</td>\n",
       "      <td>CDC20;CCNB2;CCNB1;PCNA;CHEK2;PLK1;CHEK1;CDK1</td>\n",
       "    </tr>\n",
       "    <tr>\n",
       "      <th>1</th>\n",
       "      <td>KEGG_2021_Human</td>\n",
       "      <td>Oocyte meiosis</td>\n",
       "      <td>6/129</td>\n",
       "      <td>2.304737e-09</td>\n",
       "      <td>2.765684e-08</td>\n",
       "      <td>0</td>\n",
       "      <td>0</td>\n",
       "      <td>69.188153</td>\n",
       "      <td>1376.034698</td>\n",
       "      <td>CDC20;CCNB2;CCNB1;PLK1;CDK1;AURKA</td>\n",
       "    </tr>\n",
       "    <tr>\n",
       "      <th>2</th>\n",
       "      <td>KEGG_2021_Human</td>\n",
       "      <td>p53 signaling pathway</td>\n",
       "      <td>5/73</td>\n",
       "      <td>8.371753e-09</td>\n",
       "      <td>6.697402e-08</td>\n",
       "      <td>0</td>\n",
       "      <td>0</td>\n",
       "      <td>97.607843</td>\n",
       "      <td>1815.349961</td>\n",
       "      <td>CCNB2;CCNB1;CHEK2;CHEK1;CDK1</td>\n",
       "    </tr>\n",
       "    <tr>\n",
       "      <th>3</th>\n",
       "      <td>KEGG_2021_Human</td>\n",
       "      <td>Progesterone-mediated oocyte maturation</td>\n",
       "      <td>5/100</td>\n",
       "      <td>4.125949e-08</td>\n",
       "      <td>2.475569e-07</td>\n",
       "      <td>0</td>\n",
       "      <td>0</td>\n",
       "      <td>69.771930</td>\n",
       "      <td>1186.358967</td>\n",
       "      <td>CCNB2;CCNB1;PLK1;CDK1;AURKA</td>\n",
       "    </tr>\n",
       "    <tr>\n",
       "      <th>4</th>\n",
       "      <td>KEGG_2021_Human</td>\n",
       "      <td>Cellular senescence</td>\n",
       "      <td>5/156</td>\n",
       "      <td>3.818484e-07</td>\n",
       "      <td>1.832872e-06</td>\n",
       "      <td>0</td>\n",
       "      <td>0</td>\n",
       "      <td>43.772627</td>\n",
       "      <td>646.882479</td>\n",
       "      <td>CCNB2;CCNB1;CHEK2;CHEK1;CDK1</td>\n",
       "    </tr>\n",
       "  </tbody>\n",
       "</table>\n",
       "</div>"
      ],
      "text/plain": [
       "          Gene_set                                     Term Overlap  \\\n",
       "0  KEGG_2021_Human                               Cell cycle   8/124   \n",
       "1  KEGG_2021_Human                           Oocyte meiosis   6/129   \n",
       "2  KEGG_2021_Human                    p53 signaling pathway    5/73   \n",
       "3  KEGG_2021_Human  Progesterone-mediated oocyte maturation   5/100   \n",
       "4  KEGG_2021_Human                      Cellular senescence   5/156   \n",
       "\n",
       "        P-value  Adjusted P-value  Old P-value  Old Adjusted P-value  \\\n",
       "0  2.054851e-13      4.931642e-12            0                     0   \n",
       "1  2.304737e-09      2.765684e-08            0                     0   \n",
       "2  8.371753e-09      6.697402e-08            0                     0   \n",
       "3  4.125949e-08      2.475569e-07            0                     0   \n",
       "4  3.818484e-07      1.832872e-06            0                     0   \n",
       "\n",
       "   Odds Ratio  Combined Score                                         Genes  \n",
       "0  114.160920     3335.028939  CDC20;CCNB2;CCNB1;PCNA;CHEK2;PLK1;CHEK1;CDK1  \n",
       "1   69.188153     1376.034698             CDC20;CCNB2;CCNB1;PLK1;CDK1;AURKA  \n",
       "2   97.607843     1815.349961                  CCNB2;CCNB1;CHEK2;CHEK1;CDK1  \n",
       "3   69.771930     1186.358967                   CCNB2;CCNB1;PLK1;CDK1;AURKA  \n",
       "4   43.772627      646.882479                  CCNB2;CCNB1;CHEK2;CHEK1;CDK1  "
      ]
     },
     "metadata": {},
     "output_type": "display_data"
    }
   ],
   "source": [
    "# 1)  see what version and the function signature\n",
    "import gseapy as gp, inspect\n",
    "print(\"gseapy version:\", gp.__version__)\n",
    "print(\"enrichr signature:\", inspect.signature(gp.enrichr))\n",
    "\n",
    "# 2) pick libraries (you can list available ones with: gp.get_library_name())\n",
    "gene_sets = [\n",
    "    'KEGG_2021_Human',\n",
    "    'Reactome_2022',\n",
    "    'GO_Biological_Process_2021',\n",
    "]\n",
    "\n",
    "outdir = 'enrichr_out'\n",
    "os.makedirs(outdir, exist_ok=True)\n",
    "\n",
    "# 3) call enrichr WITHOUT 'description=' (some versions don't support it)\n",
    "enr = gp.enrichr(\n",
    "    gene_list=genes,\n",
    "    gene_sets=gene_sets,\n",
    "    outdir=outdir,\n",
    "    cutoff=0.05  # adjusted p-value threshold\n",
    ")\n",
    "\n",
    "# 4) be robust to result attribute name differences across versions\n",
    "res = getattr(enr, 'results', None)\n",
    "if res is None:\n",
    "    res = getattr(enr, 'res2d', None)  # older gseapy uses 'res2d'\n",
    "\n",
    "if res is None or len(res) == 0:\n",
    "    print(\"No results (or API/library name mismatch). Try different libraries or a larger gene list.\")\n",
    "else:\n",
    "    display(res.head())\n"
   ]
  },
  {
   "cell_type": "code",
   "execution_count": 7,
   "id": "68455e45",
   "metadata": {},
   "outputs": [
    {
     "data": {
      "image/png": "[encoded data removed]",
      "text/plain": [
       "<Figure size 800x500 with 1 Axes>"
      ]
     },
     "metadata": {},
     "output_type": "display_data"
    }
   ],
   "source": [
    "if res is None or len(res)==0:\n",
    "    print(\"No significant terms found at the chosen cutoff. Try increasing cutoff or changing libraries.\")\n",
    "else:\n",
    "    # Sort by adjusted p-value\n",
    "    res_sorted = res.sort_values(by=['Adjusted P-value','P-value'], ascending=[True, True]).head(10).copy()\n",
    "    res_sorted['-log10(AdjP)'] = -res_sorted['Adjusted P-value'].apply(lambda x: (0 if x<=0 else __import__('math').log10(x)))\n",
    "    # The above creates negative values; flip sign for plotting clarity\n",
    "    res_sorted['poslog10'] = res_sorted['-log10(AdjP)'] * -1\n",
    "    \n",
    "    plt.figure(figsize=(8,5))\n",
    "    plt.barh(res_sorted['Term'], res_sorted['poslog10'])\n",
    "    plt.xlabel('-log10(Adjusted P-value)')\n",
    "    plt.ylabel('Term')\n",
    "    plt.title('Top Enriched Terms')\n",
    "    plt.gca().invert_yaxis()\n",
    "    plt.tight_layout()\n",
    "    plt.show()"
   ]
  },
  {
   "cell_type": "code",
   "execution_count": 8,
   "id": "e0b898eb",
   "metadata": {},
   "outputs": [
    {
     "name": "stdout",
     "output_type": "stream",
     "text": [
      "Saved: enrichr_out\\enrichr_results_20250815_114417.csv\n"
     ]
    }
   ],
   "source": [
    "ts = datetime.now().strftime('%Y%m%d_%H%M%S')\n",
    "csv_path = os.path.join(outdir, f'enrichr_results_{ts}.csv')\n",
    "if res is not None:\n",
    "    res.to_csv(csv_path, index=False)\n",
    "    print('Saved:', csv_path)\n",
    "else:\n",
    "    print('No results to save.')"
   ]
  },
  {
   "cell_type": "code",
   "execution_count": 9,
   "id": "01c299cd",
   "metadata": {},
   "outputs": [
    {
     "name": "stdout",
     "output_type": "stream",
     "text": [
      "Analyzed 20 genes. Top enriched terms (adj p-value):\n",
      " - Cell Cycle R-HSA-1640170 (AdjP=5.11e-23)\n",
      " - Cell Cycle, Mitotic R-HSA-69278 (AdjP=1.65e-20)\n",
      " - Cell Cycle Checkpoints R-HSA-69620 (AdjP=1.82e-18)\n",
      " - Resolution Of Sister Chromatid Cohesion R-HSA-2500257 (AdjP=9.85e-17)\n",
      " - mitotic spindle organization (GO:0007052) (AdjP=2.63e-16)\n"
     ]
    }
   ],
   "source": [
    "if res is not None and len(res):\n",
    "    top = res.sort_values(by=['Adjusted P-value','P-value']).head(5)\n",
    "    summary_lines = [\n",
    "        f\"Analyzed {len(genes)} genes. Top enriched terms (adj p-value):\"\n",
    "    ]\n",
    "    for _, row in top.iterrows():\n",
    "        summary_lines.append(f\" - {row['Term']} (AdjP={row['Adjusted P-value']:.2e})\")\n",
    "    print(\"\\n\".join(summary_lines))\n",
    "else:\n",
    "    print(\"No significant enrichment to summarize.\")"
   ]
  },
  {
   "cell_type": "code",
   "execution_count": null,
   "id": "362307a1",
   "metadata": {},
   "outputs": [],
   "source": []
  },
  {
   "cell_type": "code",
   "execution_count": null,
   "id": "cc7af422",
   "metadata": {},
   "outputs": [],
   "source": []
  },
  {
   "cell_type": "code",
   "execution_count": null,
   "id": "0a99657c",
   "metadata": {},
   "outputs": [],
   "source": []
  },
  {
   "cell_type": "code",
   "execution_count": null,
   "id": "1eb47e3c",
   "metadata": {},
   "outputs": [],
   "source": []
  },
  {
   "cell_type": "code",
   "execution_count": null,
   "id": "8562989a",
   "metadata": {},
   "outputs": [],
   "source": []
  },
  {
   "cell_type": "code",
   "execution_count": null,
   "id": "707a6824",
   "metadata": {},
   "outputs": [],
   "source": []
  },
  {
   "cell_type": "code",
   "execution_count": null,
   "id": "1e62b08b",
   "metadata": {},
   "outputs": [],
   "source": []
  },
  {
   "cell_type": "code",
   "execution_count": null,
   "id": "53720465",
   "metadata": {},
   "outputs": [],
   "source": []
  },
  {
   "cell_type": "code",
   "execution_count": null,
   "id": "4ab23d0a",
   "metadata": {},
   "outputs": [],
   "source": []
  }
 ],
 "metadata": {
  "kernelspec": {
   "display_name": "Python 3",
   "language": "python",
   "name": "python3"
  },
  "language_info": {
   "codemirror_mode": {
    "name": "ipython",
    "version": 3
   },
   "file_extension": ".py",
   "mimetype": "text/x-python",
   "name": "python",
   "nbconvert_exporter": "python",
   "pygments_lexer": "ipython3",
   "version": "3.13.3"
  }
 },
 "nbformat": 4,
 "nbformat_minor": 5
}
